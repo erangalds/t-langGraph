{
 "cells": [
  {
   "cell_type": "markdown",
   "id": "cccce23e",
   "metadata": {},
   "source": [
    "# Introduction to LangGraph\n",
    "\n",
    "## Can I re-run a *Graph Node* multiple times just like a *loop* behavior?\n",
    "Having clarified, the conditional edges concept in the *langGraph* the next question which comes to my mind is, \"Can we replicate *loop* behavior within *graph nodes*?\". \n",
    "\n",
    "What I found was, I can use the same *conditional edge* concept to implement the *loop* behavior within the *graph nodes*. \n",
    "\n",
    "Let me define two small scenarios.\n",
    "+ iterating a *graph node* on a selected number of *iterations* (i.e. either 3 times, 5 times etc.)\n",
    "+ iterating a *graph node* on a random number of *iterations* (i.e it could any number of iterations)\n",
    "\n",
    "Let me try to build these now. \n",
    "\n",
    "Let me start with the #1 scenario. I am going to use a `counter` and use that to *loop* through the same *node* few times. \n",
    "I am going to start with the #1 way. Let me first define the steps. \n",
    "+ import the modules\n",
    "+ Define the *Graph State* variable\n",
    "+ Define the *node functions*. \n",
    "    + `greeting_node`: node which greets the user\n",
    "    + `loop_node`: node which does *loops* multiple times\n",
    "+ Define the conditional edge function\n",
    "+ setup the entry point and finish points. \n",
    "+ Visualize the graph\n",
    "+ Define an input\n",
    "+ invoke the graph. \n",
    "\n"
   ]
  },
  {
   "cell_type": "code",
   "execution_count": 3,
   "id": "75572c30",
   "metadata": {},
   "outputs": [],
   "source": [
    "# Code for #1"
   ]
  },
  {
   "cell_type": "markdown",
   "id": "f2722c74",
   "metadata": {},
   "source": [
    "Now let me try the second scenario. The steps with be the same. But this time, I am going to use a *random number* to decide to finish the loop. "
   ]
  },
  {
   "cell_type": "markdown",
   "id": "96780b73",
   "metadata": {},
   "source": []
  }
 ],
 "metadata": {
  "kernelspec": {
   "display_name": "learning-langchain",
   "language": "python",
   "name": "python3"
  },
  "language_info": {
   "codemirror_mode": {
    "name": "ipython",
    "version": 3
   },
   "file_extension": ".py",
   "mimetype": "text/x-python",
   "name": "python",
   "nbconvert_exporter": "python",
   "pygments_lexer": "ipython3",
   "version": "3.13.2"
  }
 },
 "nbformat": 4,
 "nbformat_minor": 5
}
