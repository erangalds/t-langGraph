{
 "cells": [
  {
   "cell_type": "code",
   "execution_count": 1,
   "id": "fc16e021",
   "metadata": {},
   "outputs": [],
   "source": [
    "from langgraph.graph import StateGraph\n",
    "from typing import Dict, TypedDict\n",
    "# Defining a state schema for the agent\n",
    "class AgentState(TypedDict):\n",
    "    \"\"\"State schema for the agent.\"\"\"\n",
    "    greeting: str\n",
    "\n",
    "# Defining a greeting node \n",
    "def node1(state: AgentState) -> None:\n",
    "    \"\"\"Simple node that greets a user\"\"\"\n",
    "    print(f'\\n\\nGiven Input from the Graph: \\n{state}\\n\\n')\n",
    "    print(\"Hello! Now we are executing the first node of the graph.\")\n",
    "    state['greeting'] = \"Hello! I changed the greeting message in the state in the first node.\"\n",
    "    print(f\"State after node1 execution:\\n{state}\\n\")\n",
    "\n",
    "def node2(state: AgentState) -> None:\n",
    "    \"\"\"Simple node that asks for the user's name\"\"\"\n",
    "    print(f'\\n\\nGiven Input from the Graph: \\n{state}\\n\\n')\n",
    "    print(\"Now we are executing the second node of the graph.\")\n",
    "    state['greeting'] = \"Hello! I changed the greeting message in the state in the first node.\"\n",
    "    print(f\"State after node2 execution:\\n{state}\\n\")\n",
    "\n",
    "graph = StateGraph(AgentState) # Trying to define the StateGraph without a State Schema\n",
    "graph.add_node(\"node1\", node1)  # Adding the greeting node to the \n",
    "graph.add_node(\"node2\", node2)  # Adding the second node to the graph\n",
    "graph.add_edge(\"node1\", \"node2\")  # Adding an edge from the greeting node to the second node\n",
    "graph.set_entry_point(\"node1\")  # Setting the entry point to the greeting node : graph.add_edge(START, \"greeting\")\n",
    "graph.set_finish_point(\"node2\")  # Setting the finish point to the greeting node : graph.add_edge(\"greeting\", END)\n",
    "\n",
    "# Compiling the graph\n",
    "app = graph.compile()\n"
   ]
  },
  {
   "cell_type": "code",
   "execution_count": 2,
   "id": "5926169b",
   "metadata": {},
   "outputs": [
    {
     "data": {
      "image/png": "[encoded data removed]",
      "text/plain": [
       "<IPython.core.display.Image object>"
      ]
     },
     "metadata": {},
     "output_type": "display_data"
    }
   ],
   "source": [
    "from IPython.display import display, Image \n",
    "display( Image(\n",
    "    app.get_graph().draw_mermaid_png()\n",
    "))"
   ]
  },
  {
   "cell_type": "code",
   "execution_count": 3,
   "id": "74aa198e",
   "metadata": {},
   "outputs": [
    {
     "name": "stdout",
     "output_type": "stream",
     "text": [
      "\n",
      "\n",
      "Given Input from the Graph: \n",
      "{}\n",
      "\n",
      "\n",
      "Hello! Now we are executing the first node of the graph.\n",
      "State after node1 execution:\n",
      "{'greeting': 'Hello! I changed the greeting message in the state in the first node.'}\n",
      "\n",
      "\n",
      "\n",
      "Given Input from the Graph: \n",
      "{}\n",
      "\n",
      "\n",
      "Now we are executing the second node of the graph.\n",
      "State after node2 execution:\n",
      "{'greeting': 'Hello! I changed the greeting message in the state in the first node.'}\n",
      "\n"
     ]
    }
   ],
   "source": [
    "input = { 'check_input': 'This is a test input' } # This is not similar to the State Schema defined above\n",
    "\n",
    "app.invoke(input)  "
   ]
  },
  {
   "cell_type": "code",
   "execution_count": 5,
   "id": "8828f318",
   "metadata": {},
   "outputs": [
    {
     "name": "stdout",
     "output_type": "stream",
     "text": [
      "\n",
      "\n",
      "Given Input from the Graph: \n",
      "{'greeting': 'This is a test input'}\n",
      "\n",
      "\n",
      "Hello! Now we are executing the first node of the graph.\n",
      "State after node1 execution:\n",
      "{'greeting': 'Hello! I changed the greeting message in the state in the first node.'}\n",
      "\n",
      "\n",
      "\n",
      "Given Input from the Graph: \n",
      "{'greeting': 'This is a test input'}\n",
      "\n",
      "\n",
      "Now we are executing the second node of the graph.\n",
      "State after node2 execution:\n",
      "{'greeting': 'Hello! I changed the greeting message in the state in the first node.'}\n",
      "\n"
     ]
    }
   ],
   "source": [
    "input2 = { 'greeting': 'This is a test input' } # This is similar to the State Schema defined above\n",
    "result = app.invoke(input2)  # This should work as the input matches the state schema"
   ]
  },
  {
   "cell_type": "code",
   "execution_count": 6,
   "id": "7c384fa7",
   "metadata": {},
   "outputs": [
    {
     "name": "stdout",
     "output_type": "stream",
     "text": [
      "{'greeting': 'This is a test input'}\n"
     ]
    }
   ],
   "source": [
    "print(result)"
   ]
  },
  {
   "cell_type": "markdown",
   "id": "0a28273c",
   "metadata": {},
   "source": [
    "## Transferring the Changing State across the nodes"
   ]
  },
  {
   "cell_type": "code",
   "execution_count": 9,
   "id": "41c38e74",
   "metadata": {},
   "outputs": [],
   "source": [
    "from langgraph.graph import StateGraph\n",
    "from typing import Dict, TypedDict\n",
    "# Defining a state schema for the agent\n",
    "class AgentState(TypedDict):\n",
    "    \"\"\"State schema for the agent.\"\"\"\n",
    "    greeting: str\n",
    "\n",
    "# Defining a greeting node \n",
    "def node1(state: AgentState) -> AgentState:\n",
    "    \"\"\"Simple node that greets a user\"\"\"\n",
    "    print(f'\\n\\nGiven Input from the Graph: \\n{state}\\n\\n')\n",
    "    print(\"Hello! Now we are executing the first node of the graph.\")\n",
    "    state['greeting'] = \"Hello! I changed the greeting message in the state in the first node.\"\n",
    "    print(f\"State after node1 execution:\\n{state}\\n\")\n",
    "\n",
    "    return state # Returning the modified state\n",
    "\n",
    "def node2(state: AgentState) -> AgentState:\n",
    "    \"\"\"Simple node that asks for the user's name\"\"\"\n",
    "    print(f'\\n\\nGiven Input from the Graph: \\n{state}\\n\\n')\n",
    "    print(\"Now we are executing the second node of the graph.\")\n",
    "    state['greeting'] = \"Hello! I changed the greeting message in the state in the second node.\"\n",
    "    print(f\"State after node2 execution:\\n{state}\\n\")\n",
    "\n",
    "    return state  # Returning the modified state\n",
    "\n",
    "graph = StateGraph(AgentState) # Trying to define the StateGraph without a State Schema\n",
    "graph.add_node(\"node1\", node1)  # Adding the greeting node to the \n",
    "graph.add_node(\"node2\", node2)  # Adding the second node to the graph\n",
    "graph.add_edge(\"node1\", \"node2\")  # Adding an edge from the greeting node to the second node\n",
    "graph.set_entry_point(\"node1\")  # Setting the entry point to the greeting node : graph.add_edge(START, \"greeting\")\n",
    "graph.set_finish_point(\"node2\")  # Setting the finish point to the greeting node : graph.add_edge(\"greeting\", END)\n",
    "\n",
    "# Compiling the graph\n",
    "app = graph.compile()"
   ]
  },
  {
   "cell_type": "code",
   "execution_count": 10,
   "id": "817262e8",
   "metadata": {},
   "outputs": [
    {
     "name": "stdout",
     "output_type": "stream",
     "text": [
      "\n",
      "\n",
      "Given Input from the Graph: \n",
      "{'greeting': 'This is a test input'}\n",
      "\n",
      "\n",
      "Hello! Now we are executing the first node of the graph.\n",
      "State after node1 execution:\n",
      "{'greeting': 'Hello! I changed the greeting message in the state in the first node.'}\n",
      "\n",
      "\n",
      "\n",
      "Given Input from the Graph: \n",
      "{'greeting': 'Hello! I changed the greeting message in the state in the first node.'}\n",
      "\n",
      "\n",
      "Now we are executing the second node of the graph.\n",
      "State after node2 execution:\n",
      "{'greeting': 'Hello! I changed the greeting message in the state in the second node.'}\n",
      "\n"
     ]
    }
   ],
   "source": [
    "input2 = { 'greeting': 'This is a test input' } # This is similar to the State Schema defined above\n",
    "result = app.invoke(input2)  # This should work as the input matches the state schema"
   ]
  },
  {
   "cell_type": "code",
   "execution_count": 11,
   "id": "9640aac2",
   "metadata": {},
   "outputs": [
    {
     "name": "stdout",
     "output_type": "stream",
     "text": [
      "{'greeting': 'Hello! I changed the greeting message in the state in the second node.'}\n"
     ]
    }
   ],
   "source": [
    "print(result)"
   ]
  },
  {
   "cell_type": "code",
   "execution_count": null,
   "id": "15667926",
   "metadata": {},
   "outputs": [],
   "source": []
  }
 ],
 "metadata": {
  "kernelspec": {
   "display_name": "learning-langchain",
   "language": "python",
   "name": "python3"
  },
  "language_info": {
   "codemirror_mode": {
    "name": "ipython",
    "version": 3
   },
   "file_extension": ".py",
   "mimetype": "text/x-python",
   "name": "python",
   "nbconvert_exporter": "python",
   "pygments_lexer": "ipython3",
   "version": "3.13.2"
  }
 },
 "nbformat": 4,
 "nbformat_minor": 5
}
