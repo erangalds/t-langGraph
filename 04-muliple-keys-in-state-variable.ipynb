{
 "cells": [
  {
   "cell_type": "markdown",
   "id": "4e11c4c9",
   "metadata": {},
   "source": [
    "# Introduction to LangGraph\n",
    "\n",
    "## Adding Multiple keys and values into the *State* \n",
    "Well during the previous couple of experement I clarified below points about *LangGraph*. \n",
    "+ I can create a *graph* structure creating an instance of *LangGraph StateGraph* class. \n",
    "+ I can add *nodes* into the graph. \n",
    "+ Each *node* requires two things, a *name* for the *node* and an *action*, which defines what's that *node* is supposed to do when that *node* is called. \n",
    "    + *name* I can specify as a string \"greeting_node\"\n",
    "    + *action* The best practise is to define a python function as we normally define with `def` and take that function as the *action* of the *node*\n",
    "+ I needed to set the starting place (node) of the *graph* by setting the *entry_point* and similarly I had to set the finishing place (node) by setting *finish_point*\n",
    "+ The `StateGraph` instance requires an input which is named *Graph State* variable. The best practice is to define a *Graph State* variable with *python type hinting* as a `TypedDict` dictionary object. \n",
    "+ Each node requires to accept an input, and that input is the *Graph State*. \n",
    "+ I can add multiple nodes into the *graph*.\n",
    "+ Once I add multiple nodes into the *graph* I need to connect the *nodes* with each other using *edges*\n",
    "+ We can make changes to the *Graph State* variable and pass it to the next nodes by *returning* that *Graph State* variable at the end of each *node function*. \n",
    "\n",
    "The *Graph State* variable I have tried so far was a very simple dictionary which had only one *key*. What if I wanted to add multiple *keys* in the *Graph State*. How can I do that? Let's try to clarify all those questions now. \n",
    "\n",
    "Let me define a simple graph with one *node* but multiple *keys* in the *Graph State*. \n",
    "\n"
   ]
  },
  {
   "cell_type": "code",
   "execution_count": 1,
   "id": "0dd34400",
   "metadata": {},
   "outputs": [],
   "source": [
    "from typing import TypedDict, List \n",
    "from langgraph.graph import StateGraph \n"
   ]
  },
  {
   "cell_type": "markdown",
   "id": "78760ca0",
   "metadata": {},
   "source": [
    "Before defining the *Graph State* with multiple *keys*, what we need to figure out is *\"What are are trying to get done with the Graph?*. Answer to that question will lead us to the structure of the *Graph State (keys needed with which type)*. \n",
    "\n",
    "Let's say I to the *graph* to give me a the *sum* of a list of numbers, given me the final answer. I also want it to greet me with my name and say *\"Your Sum:\"*. Now for that I would need few keys in my *Graph State*. The first few *keys* which comes to my mind are below. \n",
    "+ values -> List of numbers which I want to calculate the sum of\n",
    "+ name -> my name, so the *graph* can personalize the final response. \n",
    "+ result -> final result (sum of the given values)\n",
    "\n",
    "Now Let me create a *Graph State* with 3, keys. "
   ]
  },
  {
   "cell_type": "code",
   "execution_count": null,
   "id": "8fd93995",
   "metadata": {},
   "outputs": [],
   "source": [
    "# Add Code Here to defint the Graph State"
   ]
  },
  {
   "cell_type": "markdown",
   "id": "a7e7188d",
   "metadata": {},
   "source": [
    "Next we need to define *action* for the *node*, which is the *node function*. As the first case, I am going to assume that, *values*, *name* is given and the *result* will be given as `None`. "
   ]
  },
  {
   "cell_type": "code",
   "execution_count": null,
   "id": "b75e14cd",
   "metadata": {},
   "outputs": [],
   "source": [
    "# Define the Node Function. \n",
    "# Display the state at the beginning of the node execution\n",
    "# values = List[int], name = str and result = int but initially None \n",
    "# Function will calculate the sum of values and store it in result \n",
    "# Then display the final result by calling the user's name. \n",
    "# Display the node at the end of the function excution"
   ]
  },
  {
   "cell_type": "markdown",
   "id": "22a889af",
   "metadata": {},
   "source": [
    "Now let me build the graph. "
   ]
  },
  {
   "cell_type": "code",
   "execution_count": null,
   "id": "53eb45ae",
   "metadata": {},
   "outputs": [],
   "source": [
    "# Building the Graph \n",
    "# Create a StateGraph instance \n",
    "# add the node function to the graph with a name = calculate_sum \n",
    "# Set entry point and finish point of the graph\n",
    "# compile the graph\n",
    "# visualize the graph "
   ]
  },
  {
   "cell_type": "markdown",
   "id": "5ea3cd57",
   "metadata": {},
   "source": [
    "Now let us define an input variable with similar structure to the *Graph State*. "
   ]
  },
  {
   "cell_type": "code",
   "execution_count": null,
   "id": "3ee133fa",
   "metadata": {},
   "outputs": [],
   "source": [
    "# Define input values, name and result "
   ]
  },
  {
   "cell_type": "markdown",
   "id": "945f0d86",
   "metadata": {},
   "source": [
    "Let me run the *graph*. "
   ]
  },
  {
   "cell_type": "code",
   "execution_count": null,
   "id": "eca77b20",
   "metadata": {},
   "outputs": [],
   "source": [
    "# Running the graph"
   ]
  },
  {
   "cell_type": "markdown",
   "id": "6dbf8c31",
   "metadata": {},
   "source": [
    "Now, what if\n",
    "+ I didn't provide the value of `result` in my input variable\n",
    "+ what if I didn't provide my `name` in my input variable\n",
    "+ what if I didn't provide the list of `values` in my input variable\n",
    "\n",
    "Let's me try to clarify all those questions, one by one. This is fun!!!"
   ]
  },
  {
   "cell_type": "markdown",
   "id": "789f80bc",
   "metadata": {},
   "source": []
  }
 ],
 "metadata": {
  "kernelspec": {
   "display_name": "learning-langchain",
   "language": "python",
   "name": "python3"
  },
  "language_info": {
   "codemirror_mode": {
    "name": "ipython",
    "version": 3
   },
   "file_extension": ".py",
   "mimetype": "text/x-python",
   "name": "python",
   "nbconvert_exporter": "python",
   "pygments_lexer": "ipython3",
   "version": "3.13.2"
  }
 },
 "nbformat": 4,
 "nbformat_minor": 5
}
