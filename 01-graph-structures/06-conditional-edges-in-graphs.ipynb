{
 "cells": [
  {
   "cell_type": "markdown",
   "id": "1806afc7",
   "metadata": {},
   "source": [
    "# Introduction to LangGraph\n",
    "\n",
    "## What if I want to move my graph flow from a node to another node based on a *condition*\n",
    "Now the question I have is, what I want to connect nodes in such a way that, the node flow will continue based on a certain condition (a decision). Can we do that in *LangGraph*. I am curious. Let's explore. \n",
    "\n",
    "Let me think of a scenario. Lets say, I want a graph which is a very basic calculator. A very basic calcultor, which means it can only add or subtract. Even that it can do for only two numbers. That's all. So the expected flow is as follows. \n",
    "+ You as the name of the user\n",
    "+ Ask for the operation I need to carry out. In this case either \"add\" or \"subtract\"\n",
    "+ Then ask for the two numbers (number1 and number2)\n",
    "+ Carry on with the operation and give the final answer, with a personalized response. \n",
    "\n",
    "This usecase, I can try to implement it in two ways to make it more engaging. \n",
    "+ #1: I give all the needed input at the time the *graph* is *invoked*\n",
    "+ #2: I ask for information while the *graph* is running\n",
    "\n",
    "In either of the way, there is a very interesting thing I need to clarify. Which is can we pass the process flow to nodes based on a condition. In this case, if the operation is addition, the flow to pass down to the *addition_node* otherwise to the *subtract_node*. Let's me findout. \n",
    "\n",
    "what I found was, that we can make use of a special type of *edge* called *conditional_edge* in *langgraph* to accomplish this. Just like we use a python function to define the *action* of a *graph node*, we need to define a python function to define how the decision is taken in the *conditional edge*. Therefore we need an extra function to define the conditional edge behavior. \n",
    "\n",
    "I am going to start with the #1 way. Let me first define the steps. \n",
    "+ import the modules\n",
    "+ Define the *Graph State* variable\n",
    "+ Define the *node functions*. \n",
    "    + `decision_node`: node which decides which node to pass the processing to. \n",
    "    + `addition_node`: node which does the addition part\n",
    "    + `subtraction_node`: node which does the subtracting part\n",
    "+ Define the conditional edge function\n",
    "+ setup the entry point and finish points. \n",
    "+ Visualize the graph\n",
    "+ Define an input\n",
    "+ invoke the graph. \n"
   ]
  },
  {
   "cell_type": "code",
   "execution_count": null,
   "id": "4cc0cb04",
   "metadata": {},
   "outputs": [
    {
     "data": {
      "image/png": "[encoded data removed]",
      "text/plain": [
       "<IPython.core.display.Image object>"
      ]
     },
     "metadata": {},
     "output_type": "display_data"
    }
   ],
   "source": [
    "# #1 Option Code\n",
    "# import the modules\n",
    "from typing import TypedDict, List \n",
    "from langgraph.graph import StateGraph, START, END\n",
    "from IPython.display import Image, display\n",
    "\n",
    "# define the state graph\n",
    "class AgentState(TypedDict):\n",
    "    name: str\n",
    "    number1: int\n",
    "    number2: int\n",
    "    operation: str\n",
    "    result: int \n",
    "\n",
    "# Defining the addition node\n",
    "def addition(state: AgentState) -> AgentState:\n",
    "    print(\"Addtion Node\")\n",
    "    print(f'Current State: {state}')\n",
    "    state['result'] = state['number1'] + state['number2']\n",
    "    print(f\"{state['name']}, the result of {state['number1']} + {state['number2']} is {state['result']}\")\n",
    "    return state\n",
    "# Defining the subtraction node\n",
    "def subtraction(state: AgentState) -> AgentState:\n",
    "    print(\"Subtraction Node\")\n",
    "    print(f'Current State: {state}')\n",
    "    state['result'] = state['number1'] - state['number2']\n",
    "    print(f\"{state['name']}, the result of {state['number1']} - {state['number2']} is {state['result']}\")\n",
    "    return state\n",
    "def get_operation(state: AgentState) -> AgentState:\n",
    "    print(\"Get Operation Node\")\n",
    "    print(f'Current State: {state}')\n",
    "    state['operation'] = input(f\"{state['name']}, please enter the operation (+ or -): \")\n",
    "    return state\n",
    "def conditional_decision(state: AgentState) -> str:\n",
    "    print(\"Conditional Decision Node\")\n",
    "    print(f'Current State: {state}')\n",
    "    if state['operation'] == '+':\n",
    "        print(\"Decision: Addition Operation\")\n",
    "        return 'addition_operation'\n",
    "    elif state['operation'] == '-':\n",
    "        print(\"Decision: Subtraction Operation\")\n",
    "        return 'subtraction_operaton'\n",
    "\n",
    "graph = StateGraph(AgentState)\n",
    "graph.add_node('get_operation', get_operation)\n",
    "graph.add_node('addition', addition)\n",
    "graph.add_node('subtraction', subtraction)\n",
    "graph.add_edge(START, 'get_operation')\n",
    "graph.add_edge('subtraction', END)\n",
    "graph.add_edge('addition', END)\n",
    "\n",
    "\n",
    "graph.add_conditional_edges(\n",
    "    'get_operation', # the node where the conditional decision is taken to evaluate\n",
    "    conditional_decision, # the function to evaluate the condition\n",
    "    # the mapping of the return values of the conditional function to the next nodes\n",
    "    {\n",
    "        'addition_operation': 'addition', # the next node if the condition output is addition_operation\n",
    "        'subtraction_operaton': 'subtraction' # the next node if the condition output is subtraction_operaton\n",
    "    }\n",
    ")\n",
    "\n",
    "app = graph.compile()\n",
    "display(Image(app.get_graph().draw_mermaid_png()))\n",
    "\n"
   ]
  },
  {
   "cell_type": "code",
   "execution_count": 2,
   "id": "cf1ae4ff",
   "metadata": {},
   "outputs": [
    {
     "name": "stdout",
     "output_type": "stream",
     "text": [
      "Get Operation Node\n",
      "Current State: {'name': 'eranga', 'number1': 5, 'number2': 3}\n",
      "Conditional Decision Node\n",
      "Current State: {'name': 'eranga', 'number1': 5, 'number2': 3, 'operation': '+'}\n",
      "Decision: Addition Operation\n",
      "Addtion Node\n",
      "Current State: {'name': 'eranga', 'number1': 5, 'number2': 3, 'operation': '+'}\n",
      "eranga, the result of 5 + 3 is 8\n"
     ]
    }
   ],
   "source": [
    "initial_state = AgentState(\n",
    "    name='eranga',\n",
    "    number1=5,\n",
    "    number2=3,    \n",
    ")\n",
    "\n",
    "answer = app.invoke(initial_state) "
   ]
  },
  {
   "cell_type": "code",
   "execution_count": 13,
   "id": "ca2ab3f1",
   "metadata": {},
   "outputs": [
    {
     "name": "stdout",
     "output_type": "stream",
     "text": [
      "Final Result: {'name': 'eranga', 'number1': 5, 'number2': 3, 'operation': '+'}\n"
     ]
    }
   ],
   "source": [
    "print(f\"Final Result: {answer}\")"
   ]
  },
  {
   "cell_type": "markdown",
   "id": "aa407ff0",
   "metadata": {},
   "source": [
    "Now let me try to code the #2 option, where we ask the use for some of the inputs. \n",
    "\n",
    "To make a little more clearer, let me try to add another extra node, which gets the inputs from the user. \n",
    "\n",
    "I am going to start with the #1 way. Let me first define the steps. \n",
    "+ import the modules\n",
    "+ Define the *Graph State* variable\n",
    "+ Define the *node functions*. \n",
    "    + `get_inputs`: node which gets the inputs from the user\n",
    "    + `decision_node`: node which decides which node to pass the processing to. \n",
    "    + `addition_node`: node which does the addition part\n",
    "    + `subtraction_node`: node which does the subtracting part\n",
    "+ Define the conditional edge function\n",
    "+ setup the entry point and finish points. \n",
    "+ Visualize the graph\n",
    "+ Define an input\n",
    "+ invoke the graph. \n"
   ]
  },
  {
   "cell_type": "code",
   "execution_count": 2,
   "id": "3e389432",
   "metadata": {},
   "outputs": [],
   "source": [
    "# #2 Option Code"
   ]
  },
  {
   "cell_type": "code",
   "execution_count": null,
   "id": "86d7dc74",
   "metadata": {},
   "outputs": [],
   "source": []
  }
 ],
 "metadata": {
  "kernelspec": {
   "display_name": "learning-langchain",
   "language": "python",
   "name": "python3"
  },
  "language_info": {
   "codemirror_mode": {
    "name": "ipython",
    "version": 3
   },
   "file_extension": ".py",
   "mimetype": "text/x-python",
   "name": "python",
   "nbconvert_exporter": "python",
   "pygments_lexer": "ipython3",
   "version": "3.13.2"
  }
 },
 "nbformat": 4,
 "nbformat_minor": 5
}
