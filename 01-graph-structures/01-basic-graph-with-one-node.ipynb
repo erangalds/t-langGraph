{
 "cells": [
  {
   "cell_type": "markdown",
   "id": "fa92ed1f",
   "metadata": {},
   "source": [
    "# LangGraph Labs\n",
    "## Graph 1\n",
    "### Can we create a StateGraph without a State Variable"
   ]
  },
  {
   "cell_type": "code",
   "execution_count": 2,
   "id": "29e8e708",
   "metadata": {},
   "outputs": [],
   "source": [
    "from langgraph.graph import StateGraph "
   ]
  },
  {
   "cell_type": "code",
   "execution_count": 3,
   "id": "c08d5a80",
   "metadata": {},
   "outputs": [
    {
     "ename": "ValueError",
     "evalue": "Must provide state_schema or input and output",
     "output_type": "error",
     "traceback": [
      "\u001b[31m---------------------------------------------------------------------------\u001b[39m",
      "\u001b[31mValueError\u001b[39m                                Traceback (most recent call last)",
      "\u001b[36mCell\u001b[39m\u001b[36m \u001b[39m\u001b[32mIn[3]\u001b[39m\u001b[32m, line 1\u001b[39m\n\u001b[32m----> \u001b[39m\u001b[32m1\u001b[39m graph = \u001b[43mStateGraph\u001b[49m\u001b[43m(\u001b[49m\u001b[43m)\u001b[49m\n",
      "\u001b[36mFile \u001b[39m\u001b[32m/opt/miniconda3/envs/learning-langchain/lib/python3.13/site-packages/langgraph/graph/state.py:182\u001b[39m, in \u001b[36mStateGraph.__init__\u001b[39m\u001b[34m(self, state_schema, config_schema, input, output)\u001b[39m\n\u001b[32m    180\u001b[39m \u001b[38;5;28;01mif\u001b[39;00m state_schema \u001b[38;5;129;01mis\u001b[39;00m \u001b[38;5;28;01mNone\u001b[39;00m:\n\u001b[32m    181\u001b[39m     \u001b[38;5;28;01mif\u001b[39;00m \u001b[38;5;28minput\u001b[39m \u001b[38;5;129;01mis\u001b[39;00m \u001b[38;5;28;01mNone\u001b[39;00m \u001b[38;5;129;01mor\u001b[39;00m output \u001b[38;5;129;01mis\u001b[39;00m \u001b[38;5;28;01mNone\u001b[39;00m:\n\u001b[32m--> \u001b[39m\u001b[32m182\u001b[39m         \u001b[38;5;28;01mraise\u001b[39;00m \u001b[38;5;167;01mValueError\u001b[39;00m(\u001b[33m\"\u001b[39m\u001b[33mMust provide state_schema or input and output\u001b[39m\u001b[33m\"\u001b[39m)\n\u001b[32m    183\u001b[39m     state_schema = \u001b[38;5;28minput\u001b[39m\n\u001b[32m    184\u001b[39m     warnings.warn(\n\u001b[32m    185\u001b[39m         \u001b[33m\"\u001b[39m\u001b[33mInitializing StateGraph without state_schema is deprecated. \u001b[39m\u001b[33m\"\u001b[39m\n\u001b[32m    186\u001b[39m         \u001b[33m\"\u001b[39m\u001b[33mPlease pass in an explicit state_schema instead of just an input and output schema.\u001b[39m\u001b[33m\"\u001b[39m,\n\u001b[32m    187\u001b[39m         LangGraphDeprecationWarning,\n\u001b[32m    188\u001b[39m         stacklevel=\u001b[32m2\u001b[39m,\n\u001b[32m    189\u001b[39m     )\n",
      "\u001b[31mValueError\u001b[39m: Must provide state_schema or input and output"
     ]
    }
   ],
   "source": [
    "graph = StateGraph()"
   ]
  },
  {
   "cell_type": "markdown",
   "id": "925e57b1",
   "metadata": {},
   "source": [
    "we are getting an `ValueError`, with a warning which basically says \"Initializing `StateGraph` without `state_schema` is depcrecated.\". Which means we must provide a *State Variable*, to create a `StateGraph` instance. \n",
    "\n",
    "Now let us do that. \n",
    "\n",
    "Let us import `TypeDict` and `Dict` modules from `typing` library and define a new *class*. "
   ]
  },
  {
   "cell_type": "code",
   "execution_count": 4,
   "id": "3e79ffa9",
   "metadata": {},
   "outputs": [],
   "source": [
    "from typing import Dict, TypedDict\n",
    "# Defining a state schema for the agent\n",
    "\n",
    "class AgentState(TypedDict):\n",
    "    \"\"\"State schema for the agent.\"\"\"\n",
    "    greeting: str\n",
    "\n",
    "graph = StateGraph(AgentState)"
   ]
  },
  {
   "cell_type": "markdown",
   "id": "6f565f85",
   "metadata": {},
   "source": [
    "Right, now I can see that the `StateGraph` instance got created. Now let us try to add the nodes. "
   ]
  },
  {
   "cell_type": "code",
   "execution_count": null,
   "id": "d638653e",
   "metadata": {},
   "outputs": [],
   "source": [
    "from typing import Dict, TypedDict\n",
    "# Defining a state schema for the agent\n",
    "\n",
    "class AgentState(TypedDict):\n",
    "    \"\"\"State schema for the agent.\"\"\"\n",
    "    greeting: str\n",
    "\n",
    "graph = StateGraph(AgentState)\n",
    "graph.add_node(node=\"greet\",action=lambda x : print('Welcome to LangGraph!'))\n",
    "graph.set_entry_point(\"greet\")\n",
    "graph.set_finish_point(\"greet\")\n",
    "\n",
    "app = graph.compile()\n",
    "\n"
   ]
  },
  {
   "cell_type": "code",
   "execution_count": 10,
   "id": "622c7382",
   "metadata": {},
   "outputs": [
    {
     "ename": "TypeError",
     "evalue": "Pregel.invoke() missing 1 required positional argument: 'input'",
     "output_type": "error",
     "traceback": [
      "\u001b[31m---------------------------------------------------------------------------\u001b[39m",
      "\u001b[31mTypeError\u001b[39m                                 Traceback (most recent call last)",
      "\u001b[36mCell\u001b[39m\u001b[36m \u001b[39m\u001b[32mIn[10]\u001b[39m\u001b[32m, line 1\u001b[39m\n\u001b[32m----> \u001b[39m\u001b[32m1\u001b[39m result = \u001b[43mapp\u001b[49m\u001b[43m.\u001b[49m\u001b[43minvoke\u001b[49m\u001b[43m(\u001b[49m\u001b[43m)\u001b[49m\n\u001b[32m      2\u001b[39m \u001b[38;5;28mprint\u001b[39m(result)\n",
      "\u001b[31mTypeError\u001b[39m: Pregel.invoke() missing 1 required positional argument: 'input'"
     ]
    }
   ],
   "source": [
    "result = app.invoke()\n",
    "print(result)"
   ]
  },
  {
   "cell_type": "markdown",
   "id": "2f8e4b06",
   "metadata": {},
   "source": [
    "Right, looks like the *Graph* is expecting an input variable while getting *invoked*. Let me try to give an empty *dictionary*"
   ]
  },
  {
   "cell_type": "code",
   "execution_count": 11,
   "id": "7c05b09e",
   "metadata": {},
   "outputs": [
    {
     "name": "stdout",
     "output_type": "stream",
     "text": [
      "Welcome to LangGraph!\n",
      "None\n"
     ]
    }
   ],
   "source": [
    "result = app.invoke({})\n",
    "print(result)"
   ]
  },
  {
   "cell_type": "markdown",
   "id": "a354fddc",
   "metadata": {},
   "source": [
    "That worked. But we can see that the `result` was `None`, which means the *Graph* just printed the greeting message, and that's all. \n",
    "\n",
    "Now, if I want to have a little complex action, then let me see what I can do. Well what I found is that I can define a simple python function and provide that as the *action* of the *node*. \n",
    "\n",
    "Let me try to do that now. "
   ]
  },
  {
   "cell_type": "code",
   "execution_count": null,
   "id": "ff8ee7ec",
   "metadata": {},
   "outputs": [],
   "source": [
    "from typing import Dict, TypedDict\n",
    "# Defining a state schema for the agent\n",
    "\n",
    "class AgentState(TypedDict):\n",
    "    \"\"\"State schema for the agent.\"\"\"\n",
    "    greeting: str\n",
    "\n",
    "# Defining a greeting node \n",
    "def greeting_node(input_check) -> None:\n",
    "    \"\"\"Simple node that greets a user\"\"\"\n",
    "    print(f'Given Input from the Graph: \\n{input_check}\\n\\n')\n",
    "    print(\"Hello! Welcome to LangGraph.\")\n",
    "\n",
    "graph = StateGraph(AgentState) # Trying to define the StateGraph without a State Schema\n",
    "graph.add_node(\"greeting_node\", greeting_node)  # Adding the greeting node to the \n",
    "graph.set_entry_point(\"greeting_node\")  # Setting the entry point to the greeting node : graph.add_edge(START, \"greeting\")\n",
    "graph.set_finish_point(\"greeting_node\")  # Setting the finish point to the greeting node : graph.add_edge(\"greeting\", END)\n",
    "\n",
    "# Compiling the graph\n",
    "app = graph.compile()\n",
    "\n"
   ]
  },
  {
   "cell_type": "code",
   "execution_count": 8,
   "id": "7ff8ca24",
   "metadata": {},
   "outputs": [
    {
     "data": {
      "image/png": "[encoded data removed]",
      "text/plain": [
       "<IPython.core.display.Image object>"
      ]
     },
     "metadata": {},
     "output_type": "display_data"
    }
   ],
   "source": [
    "from IPython.display import display, Image \n",
    "display( Image(\n",
    "    app.get_graph().draw_mermaid_png()\n",
    "))"
   ]
  },
  {
   "cell_type": "markdown",
   "id": "ba3bb1bb",
   "metadata": {},
   "source": [
    "I was able to compile the `StateGraph`, and I can see the structure above. Let us now try to *invoke* the *compiled* `StateGraph` instance (`app`). "
   ]
  },
  {
   "cell_type": "code",
   "execution_count": 5,
   "id": "2fa9e923",
   "metadata": {},
   "outputs": [
    {
     "ename": "TypeError",
     "evalue": "Pregel.invoke() missing 1 required positional argument: 'input'",
     "output_type": "error",
     "traceback": [
      "\u001b[31m---------------------------------------------------------------------------\u001b[39m",
      "\u001b[31mTypeError\u001b[39m                                 Traceback (most recent call last)",
      "\u001b[36mCell\u001b[39m\u001b[36m \u001b[39m\u001b[32mIn[5]\u001b[39m\u001b[32m, line 1\u001b[39m\n\u001b[32m----> \u001b[39m\u001b[32m1\u001b[39m \u001b[43mapp\u001b[49m\u001b[43m.\u001b[49m\u001b[43minvoke\u001b[49m\u001b[43m(\u001b[49m\u001b[43m)\u001b[49m\n",
      "\u001b[31mTypeError\u001b[39m: Pregel.invoke() missing 1 required positional argument: 'input'"
     ]
    }
   ],
   "source": [
    "app.invoke()"
   ]
  },
  {
   "cell_type": "markdown",
   "id": "4f309605",
   "metadata": {},
   "source": [
    "Now I am getting an error. Its saying when we `invoke` the *graph* we should give an *input*. I wanted to see what is this is *input* which the *graph* is expecting. \n",
    "\n",
    "I know that an empty dictionary was accepted last time. But that's of no use. Let me try to give some kind of valid input this time. \n",
    "\n",
    "Is it the *State* or will it accept any general variable as the *input*. Lets try to input a *dictionary* type variable which is different to the *State Schema*. "
   ]
  },
  {
   "cell_type": "code",
   "execution_count": 9,
   "id": "aa2f378d",
   "metadata": {},
   "outputs": [
    {
     "name": "stdout",
     "output_type": "stream",
     "text": [
      "Given Input from the Graph: \n",
      "{}\n",
      "\n",
      "\n",
      "Hello! Welcome to LangGraph.\n"
     ]
    }
   ],
   "source": [
    "input = { 'check_input': 'This is a test input' } # This is not similar to the State Schema defined above\n",
    "\n",
    "app.invoke(input)  \n"
   ]
  },
  {
   "cell_type": "markdown",
   "id": "8ffa18a9",
   "metadata": {},
   "source": [
    "Ok, I was able to see that the *Graph* ran, but looks like the behavior is a little different to what we expected. We can see the outputs of the `greeting_node`. Looks like the input which we gave didn't get passed into the `greeting_node`. That's why we see an *empty dictionary* in the output. We can see that the `greeting_node` was executed. \n",
    "\n",
    "Now let me try to give an input in *dictionary* format, which is similar to *State Schema*. "
   ]
  },
  {
   "cell_type": "code",
   "execution_count": 10,
   "id": "97e04b0a",
   "metadata": {},
   "outputs": [
    {
     "name": "stdout",
     "output_type": "stream",
     "text": [
      "Given Input from the Graph: \n",
      "{'greeting': 'This is a test input'}\n",
      "\n",
      "\n",
      "Hello! Welcome to LangGraph.\n"
     ]
    },
    {
     "data": {
      "text/plain": [
       "{'greeting': 'This is a test input'}"
      ]
     },
     "execution_count": 10,
     "metadata": {},
     "output_type": "execute_result"
    }
   ],
   "source": [
    "input2 = { 'greeting': 'This is a test input' } # This is similar to the State Schema defined above\n",
    "app.invoke(input2)  # This should work as the input matches the state schema"
   ]
  },
  {
   "cell_type": "markdown",
   "id": "73eed6d1",
   "metadata": {},
   "source": [
    "Great. It worked. I now see that the `greeting_node` received the input which I gave when I *invoked* the *graph*. The `greeting_node` was able to access the variable and print it. So what I can conclude with this. \n",
    "\n",
    "## Summary\n",
    "+ Creating an instance of a `StateGraph` requires a *State Schema* type variable as an *input*\n",
    "+ Each *node function* should accept a variable. But if we want to make use of the input given to the *Graph* then the *node function* should accept a *State Schema* type variable as the input. "
   ]
  }
 ],
 "metadata": {
  "kernelspec": {
   "display_name": "learning-langchain",
   "language": "python",
   "name": "python3"
  },
  "language_info": {
   "codemirror_mode": {
    "name": "ipython",
    "version": 3
   },
   "file_extension": ".py",
   "mimetype": "text/x-python",
   "name": "python",
   "nbconvert_exporter": "python",
   "pygments_lexer": "ipython3",
   "version": "3.13.2"
  }
 },
 "nbformat": 4,
 "nbformat_minor": 5
}
