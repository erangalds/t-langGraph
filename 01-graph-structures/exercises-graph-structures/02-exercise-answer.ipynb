{
 "cells": [
  {
   "cell_type": "markdown",
   "id": "5ef1a22e",
   "metadata": {},
   "source": [
    "# Exercise 2\n",
    "\n",
    "Create a Graph where you pass in a single list of integers along with a name and an operation. If the operation is a “+”, you add the elements and if it is a “*”, you multiply the elements, all within the same node.\n",
    "\n",
    "Input: {'name': 'Jack Sparrow', 'values':[1,2,3,4],'operation:'*'}\n",
    "Output: 'Hi Jack Sparrow, your answer is: 24'\n",
    "\n"
   ]
  },
  {
   "cell_type": "code",
   "execution_count": null,
   "id": "62136a4b",
   "metadata": {},
   "outputs": [],
   "source": [
    "# Code for Exercise 2: Implementing a Simple State Graph\n",
    "from langgraph.graph import StateGraph, START, END \n",
    "from typing import Dict, List, TypedDict\n",
    "from IPython.display import Image, display\n",
    "\n",
    "# Define the State Variable. \n",
    "class AgentState(TypedDict):\n",
    "    name: str\n",
    "    values: List[int]\n",
    "    operation: str\n",
    "    result: int\n",
    "\n",
    "# Define processing_node \n",
    "def processing_node(state: AgentState) -> AgentState:\n",
    "    \"\"\"Greet the user and ask for the state variable values\"\"\"\n",
    "    # Print a greeting message to inform the currently running node\n",
    "    print(\"Inside the processing node.\")\n",
    "    # Priting the current state for debugging purposes\n",
    "    print(f\"Current state: {state}\")\n",
    "    \n",
    "    # Perform the operation\n",
    "    if state['operation'] == '+':\n",
    "        state['result'] = sum(state['values'])\n",
    "    elif state['operation'] == '*':\n",
    "        state['result'] = 1\n",
    "        for value in state['values']:\n",
    "            state['result'] *= value\n",
    "    \n",
    "    # Priting the message to the user\n",
    "    print(f\"{state['name']}, your answer is: {state['result']}\")\n",
    "\n",
    "    # Priting the updated state for debugging purposes\n",
    "    print(f\"Updated state: {state}\")\n",
    "    return state\n",
    "\n",
    "# Define the state graph\n",
    "graph = StateGraph(AgentState)\n",
    "graph.add_node(\"processing_node\", processing_node)\n",
    "graph.add_edge(START, \"processing_node\")\n",
    "graph.add_edge(\"processing_node\", END)\n",
    "# Compile the Graph\n",
    "app = graph.compile()\n",
    "# Display the graph in Mermaid format   \n",
    "#display(Image(app.get_graph().draw_mermaid_png()))"
   ]
  },
  {
   "cell_type": "markdown",
   "id": "c38dc111",
   "metadata": {},
   "source": [
    "Now let's run the graph"
   ]
  },
  {
   "cell_type": "code",
   "execution_count": 3,
   "id": "9fa1893c",
   "metadata": {},
   "outputs": [
    {
     "name": "stdout",
     "output_type": "stream",
     "text": [
      "Inside the processing node.\n",
      "Current state: {'name': 'Jack Sparrow', 'values': [1, 2, 3, 4], 'operation': '*'}\n",
      "Jack Sparrow, your answer is: 24\n",
      "Updated state: {'name': 'Jack Sparrow', 'values': [1, 2, 3, 4], 'operation': '*', 'result': 24}\n"
     ]
    },
    {
     "data": {
      "text/plain": [
       "{'name': 'Jack Sparrow',\n",
       " 'values': [1, 2, 3, 4],\n",
       " 'operation': '*',\n",
       " 'result': 24}"
      ]
     },
     "execution_count": 3,
     "metadata": {},
     "output_type": "execute_result"
    }
   ],
   "source": [
    "initial_state: AgentState = {\n",
    "    \"name\": \"Jack Sparrow\",\n",
    "    \"values\": [1,2,3,4],\n",
    "    \"operation\": \"*\",\n",
    "}\n",
    "\n",
    "app.invoke(initial_state)"
   ]
  },
  {
   "cell_type": "code",
   "execution_count": null,
   "id": "178b9e4e",
   "metadata": {},
   "outputs": [],
   "source": []
  }
 ],
 "metadata": {
  "kernelspec": {
   "display_name": "learning-langchain",
   "language": "python",
   "name": "python3"
  },
  "language_info": {
   "codemirror_mode": {
    "name": "ipython",
    "version": 3
   },
   "file_extension": ".py",
   "mimetype": "text/x-python",
   "name": "python",
   "nbconvert_exporter": "python",
   "pygments_lexer": "ipython3",
   "version": "3.13.2"
  }
 },
 "nbformat": 4,
 "nbformat_minor": 5
}
