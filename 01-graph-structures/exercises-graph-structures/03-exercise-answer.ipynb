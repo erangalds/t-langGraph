{
 "cells": [
  {
   "cell_type": "markdown",
   "id": "2b436e70",
   "metadata": {},
   "source": [
    "# Exercise 3\n",
    "\n",
    "1. Accept a user's name, age, and a list of their skills.\n",
    "2. Pass the state through three nodes taht:\n",
    "    + First Node: Personalizes the name field with a greeting\n",
    "    + Second Node: Describe the user's age\n",
    "    + Third Node: Lists  the user's skills in a formatted string\n",
    "3. The final output is the result field should be a combined message in this format\n",
    "\n",
    "output: 'Linda, welcome to teh system! You are 31 years old! You have skills in: Python, Machine Learning, and LangGraph'\n"
   ]
  },
  {
   "cell_type": "code",
   "execution_count": null,
   "id": "d2e98f2b",
   "metadata": {},
   "outputs": [],
   "source": [
    "# Code for Exercise 3: Implementing a Simple State Graph\n",
    "from langgraph.graph import StateGraph, START, END \n",
    "from typing import Dict, List, TypedDict\n",
    "from IPython.display import Image, display\n",
    "\n",
    "# Define the State Variable. \n",
    "class AgentState(TypedDict):\n",
    "    name: str\n",
    "    age: int\n",
    "    skills: List[str]\n",
    "    message: str\n",
    "\n",
    "# Define processing_node \n",
    "def first_node(state: AgentState) -> AgentState:\n",
    "    \"\"\"Greeting the user with a personalized message\"\"\"\n",
    "    # Print a greeting message to inform the currently running node\n",
    "    print(\"Inside the first node.\")\n",
    "    # Priting the current state for debugging purposes\n",
    "    print(f\"Current state: {state}\")\n",
    "    \n",
    "    # Update the state with a new message\n",
    "    state['message'] = f\"{state['name']}\"\n",
    "    # Priting the updated state for debugging purposes\n",
    "    print(f\"Updated state: {state}\")\n",
    "    return state\n",
    "\n",
    "# Define the second node\n",
    "def second_node(state: AgentState) -> AgentState:\n",
    "    \"\"\"Ask the user for their age and skills\"\"\"\n",
    "    # Print a greeting message to inform the currently running node\n",
    "    print(\"Inside the second node.\")\n",
    "    # Priting the current state for debugging purposes\n",
    "    print(f\"Current state: {state}\")\n",
    "    \n",
    "    # Update the state with a new message\n",
    "    state['message'] = f\"{state['message']}, you are {state['age']} years old!.\"\n",
    "\n",
    "    # Priting the updated state for debugging purposes\n",
    "    print(f\"Updated state: {state}\")\n",
    "    return state\n",
    " \n",
    "def third_node(state: AgentState) -> AgentState:\n",
    "    \"\"\"Greet the user and ask for the state variable values\"\"\"\n",
    "    # Print a greeting message to inform the currently running node\n",
    "    print(\"Inside the processing node.\")\n",
    "    # Priting the current state for debugging purposes\n",
    "    print(f\"Current state: {state}\")\n",
    "    \n",
    "      \n",
    "    # Format the skills list into a string \n",
    "    skills_str = ''\n",
    "    for skill in state['skills']:\n",
    "        if skill == state['skills'][-1]:\n",
    "            skills_str += f\"and {skill}.\"\n",
    "        else:\n",
    "            skills_str += f\"{skill}, \"\n",
    "    # Update the state with a new message\n",
    "    state['message'] = f\"{state['message']} and your skills are: {skills_str}\"\n",
    "    # Priting the updated state for debugging purposes\n",
    "    print(f\"Updated state: {state}\")\n",
    "    return state\n",
    "\n",
    "# Define the state graph\n",
    "graph = StateGraph(AgentState)\n",
    "graph.add_node(\"first_node\", first_node)\n",
    "graph.add_node(\"second_node\", second_node)\n",
    "graph.add_node(\"third_node\", third_node)\n",
    "graph.add_edge(START, \"first_node\")\n",
    "graph.add_edge(\"first_node\", \"second_node\")\n",
    "graph.add_edge(\"second_node\", \"third_node\")     \n",
    "graph.add_edge(\"third_node\", END)\n",
    "# Compile the Graph\n",
    "app = graph.compile()\n",
    "# Display the graph in Mermaid format   \n",
    "#display(Image(app.get_graph().draw_mermaid_png()))"
   ]
  },
  {
   "cell_type": "markdown",
   "id": "a98936ab",
   "metadata": {},
   "source": [
    "Now let us run the graph. "
   ]
  },
  {
   "cell_type": "code",
   "execution_count": 6,
   "id": "b343a78f",
   "metadata": {},
   "outputs": [
    {
     "name": "stdout",
     "output_type": "stream",
     "text": [
      "Inside the first node.\n",
      "Current state: {'name': 'Linda', 'age': 31, 'skills': ['Python', 'Machine Learning', 'LangGraph']}\n",
      "Updated state: {'name': 'Linda', 'age': 31, 'skills': ['Python', 'Machine Learning', 'LangGraph'], 'message': 'Linda'}\n",
      "Inside the second node.\n",
      "Current state: {'name': 'Linda', 'age': 31, 'skills': ['Python', 'Machine Learning', 'LangGraph'], 'message': 'Linda'}\n",
      "Updated state: {'name': 'Linda', 'age': 31, 'skills': ['Python', 'Machine Learning', 'LangGraph'], 'message': 'Linda, you are 31 years old!.'}\n",
      "Inside the processing node.\n",
      "Current state: {'name': 'Linda', 'age': 31, 'skills': ['Python', 'Machine Learning', 'LangGraph'], 'message': 'Linda, you are 31 years old!.'}\n",
      "Updated state: {'name': 'Linda', 'age': 31, 'skills': ['Python', 'Machine Learning', 'LangGraph'], 'message': 'Linda, you are 31 years old!. and your skills are: Python, Machine Learning, and LangGraph.'}\n"
     ]
    },
    {
     "data": {
      "text/plain": [
       "{'name': 'Linda',\n",
       " 'age': 31,\n",
       " 'skills': ['Python', 'Machine Learning', 'LangGraph'],\n",
       " 'message': 'Linda, you are 31 years old!. and your skills are: Python, Machine Learning, and LangGraph.'}"
      ]
     },
     "execution_count": 6,
     "metadata": {},
     "output_type": "execute_result"
    }
   ],
   "source": [
    "initial_state: AgentState = {\n",
    "    \"name\": \"Linda\",\n",
    "    \"age\": 31,\n",
    "    \"skills\": [\"Python\", \"Machine Learning\", \"LangGraph\"],\n",
    "}\n",
    "\n",
    "app.invoke(initial_state)"
   ]
  },
  {
   "cell_type": "code",
   "execution_count": null,
   "id": "9300dacc",
   "metadata": {},
   "outputs": [],
   "source": []
  }
 ],
 "metadata": {
  "kernelspec": {
   "display_name": "learning-langchain",
   "language": "python",
   "name": "python3"
  },
  "language_info": {
   "codemirror_mode": {
    "name": "ipython",
    "version": 3
   },
   "file_extension": ".py",
   "mimetype": "text/x-python",
   "name": "python",
   "nbconvert_exporter": "python",
   "pygments_lexer": "ipython3",
   "version": "3.13.2"
  }
 },
 "nbformat": 4,
 "nbformat_minor": 5
}
