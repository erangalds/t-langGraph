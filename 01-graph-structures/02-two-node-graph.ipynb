{
 "cells": [
  {
   "cell_type": "markdown",
   "id": "833f16c3",
   "metadata": {},
   "source": [
    "# Introduction to LangGraph\n",
    "\n",
    "## Let's see how to connect two nodes sequentially into the `StateGraph`\n",
    "Now, I am a bit clear about setting up a `State Graph` with one *node*. But what if I need a *graph* with multiple nodes in it. How does that work? how differently can I connect the *nodes* to each other. All these interesting questions came to my mind. So I started to explore again. The most basic *multi node graph* will have two *nodes*. When you have two *nodes* the most basic was to connect them is to connect each other with a single *edge (connection)*. That's it. \n",
    "\n",
    "Let's see how I can do that now. Now, when I have two *nodes* that means I need two *node functions*. Let's start to build this *graph*. \n",
    "\n",
    "So simple steps would be as follows: \n",
    "+ Import the *python modules*\n",
    "+ Define the `AgentState` variable with a *State Schemaa*\n",
    "+ Define the *node function* for the first *node*. Let me call it `node1`\n",
    "+ Define the *node function* for the second *node*. Let me call it `node2`\n",
    "+ Create an instance of a `StateGraph` let me call it `graph`\n",
    "+ Adding the nodes to the `graph`\n",
    "+ Adding the `entry_point` and 'finish_point` of the `graph`\n",
    "+ Compile the `graph`\n",
    "+ visualize the compiled `graph`"
   ]
  },
  {
   "cell_type": "code",
   "execution_count": 1,
   "id": "fc16e021",
   "metadata": {},
   "outputs": [],
   "source": [
    "from langgraph.graph import StateGraph\n",
    "from typing import Dict, TypedDict\n",
    "# Defining a state schema for the agent\n",
    "class AgentState(TypedDict):\n",
    "    \"\"\"State schema for the agent.\"\"\"\n",
    "    greeting: str\n",
    "\n",
    "# Defining a greeting node \n",
    "def node1(input_check) -> None:\n",
    "    \"\"\"Simple node that greets a user\"\"\"\n",
    "    print(f'Given Input from the Graph: \\n{input_check}\\n\\n')\n",
    "    print(\"Hello! Now we are executing the first node of the graph.\")\n",
    "\n",
    "def node2(input_check) -> None:\n",
    "    \"\"\"Simple node that asks for the user's name\"\"\"\n",
    "    print(f'Given Input from the Graph: \\n{input_check}\\n\\n')\n",
    "    print(\"Now we are executing the second node of the graph.\")\n",
    "\n",
    "graph = StateGraph(AgentState) # Trying to define the StateGraph without a State Schema\n",
    "graph.add_node(\"node1\", node1)  # Adding the greeting node to the \n",
    "graph.add_node(\"node2\", node2)  # Adding the second node to the graph\n",
    "graph.set_entry_point(\"node1\")  # Setting the entry point to the greeting node : graph.add_edge(START, \"greeting\")\n",
    "graph.set_finish_point(\"node2\")  # Setting the finish point to the greeting node : graph.add_edge(\"greeting\", END)\n",
    "\n",
    "# Compiling the graph\n",
    "app = graph.compile()\n"
   ]
  },
  {
   "cell_type": "code",
   "execution_count": 2,
   "id": "5926169b",
   "metadata": {},
   "outputs": [
    {
     "data": {
      "image/png": "[encoded data removed]",
      "text/plain": [
       "<IPython.core.display.Image object>"
      ]
     },
     "metadata": {},
     "output_type": "display_data"
    }
   ],
   "source": [
    "from IPython.display import display, Image \n",
    "display( Image(\n",
    "    app.get_graph().draw_mermaid_png()\n",
    "))"
   ]
  },
  {
   "cell_type": "markdown",
   "id": "5efc4ed7",
   "metadata": {},
   "source": [
    "Well, that didn't work as expected. The `graph` seems to be broken into two parts. That's because there is no connection between `node1` and `node2`. When I explored what I learned was that we can connect two *nodes* with an *edge*. \n",
    "\n",
    "Therefore, I need to add another step into the task list. \n",
    "+ Import the *python modules*\n",
    "+ Define the `AgentState` variable with a *State Schemaa*\n",
    "+ Define the *node function* for the first *node*. Let me call it `node1`\n",
    "+ Define the *node function* for the second *node*. Let me call it `node2`\n",
    "+ Add an *edge* between `node1` and `node2`\n",
    "+ Create an instance of a `StateGraph` let me call it `graph`\n",
    "+ Adding the nodes to the `graph`\n",
    "+ Adding the `entry_point` and 'finish_point` of the `graph`\n",
    "+ Compile the `graph`\n",
    "+ visualize the compiled `graph`\n",
    "\n",
    "Let me add that connection now. The full code where I added the *edge* is given below. "
   ]
  },
  {
   "cell_type": "code",
   "execution_count": 5,
   "id": "79005065",
   "metadata": {},
   "outputs": [],
   "source": [
    "from langgraph.graph import StateGraph\n",
    "from typing import Dict, TypedDict\n",
    "# Defining a state schema for the agent\n",
    "class AgentState(TypedDict):\n",
    "    \"\"\"State schema for the agent.\"\"\"\n",
    "    greeting: str\n",
    "\n",
    "# Defining a greeting node \n",
    "def node1(input_check) -> None:\n",
    "    \"\"\"Simple node that greets a user\"\"\"\n",
    "    print(f'Given Input from the Graph: \\n{input_check}\\n\\n')\n",
    "    print(\"Hello! Now we are executing the first node of the graph.\")\n",
    "\n",
    "def node2(input_check) -> None:\n",
    "    \"\"\"Simple node that asks for the user's name\"\"\"\n",
    "    print(f'Given Input from the Graph: \\n{input_check}\\n\\n')\n",
    "    print(\"Now we are executing the second node of the graph.\")\n",
    "\n",
    "graph = StateGraph(AgentState) # Trying to define the StateGraph without a State Schema\n",
    "graph.add_node(\"node1\", node1)  # Adding the greeting node to the \n",
    "graph.add_node(\"node2\", node2)  # Adding the second node to the graph\n",
    "graph.add_edge(\"node1\", \"node2\")  # Adding an edge from the greeting node to the second node\n",
    "graph.set_entry_point(\"node1\")  # Setting the entry point to the greeting node : graph.add_edge(START, \"greeting\")\n",
    "graph.set_finish_point(\"node2\")  # Setting the finish point to the greeting node : graph.add_edge(\"greeting\", END)\n",
    "\n",
    "# Compiling the graph\n",
    "app = graph.compile()\n"
   ]
  },
  {
   "cell_type": "code",
   "execution_count": 6,
   "id": "5ee785d4",
   "metadata": {},
   "outputs": [
    {
     "data": {
      "image/png": "[encoded data removed]",
      "text/plain": [
       "<IPython.core.display.Image object>"
      ]
     },
     "metadata": {},
     "output_type": "display_data"
    }
   ],
   "source": [
    "from IPython.display import display, Image \n",
    "display( Image(\n",
    "    app.get_graph().draw_mermaid_png()\n",
    "))"
   ]
  },
  {
   "cell_type": "markdown",
   "id": "009c5e14",
   "metadata": {},
   "source": [
    "Now that looks good. That's the structure which I expected to build. Let me now try to run the *graph*. So for that I need to define an input varible. Similar to previous test. Let's try to give an input which is different to the *State Schema* structure. "
   ]
  },
  {
   "cell_type": "code",
   "execution_count": 5,
   "id": "74aa198e",
   "metadata": {},
   "outputs": [
    {
     "name": "stdout",
     "output_type": "stream",
     "text": [
      "Given Input from the Graph: \n",
      "{}\n",
      "\n",
      "\n",
      "Hello! Now we are executing the first node of the graph.\n",
      "Given Input from the Graph: \n",
      "{}\n",
      "\n",
      "\n",
      "Now we are executing the second node of the graph.\n"
     ]
    }
   ],
   "source": [
    "input = { 'check_input': 'This is a test input' } # This is not similar to the State Schema defined above\n",
    "\n",
    "app.invoke(input)  "
   ]
  },
  {
   "cell_type": "code",
   "execution_count": 6,
   "id": "8828f318",
   "metadata": {},
   "outputs": [
    {
     "name": "stdout",
     "output_type": "stream",
     "text": [
      "Given Input from the Graph: \n",
      "{'greeting': 'This is a test input'}\n",
      "\n",
      "\n",
      "Hello! Now we are executing the first node of the graph.\n",
      "Given Input from the Graph: \n",
      "{'greeting': 'This is a test input'}\n",
      "\n",
      "\n",
      "Now we are executing the second node of the graph.\n"
     ]
    },
    {
     "data": {
      "text/plain": [
       "{'greeting': 'This is a test input'}"
      ]
     },
     "execution_count": 6,
     "metadata": {},
     "output_type": "execute_result"
    }
   ],
   "source": [
    "input2 = { 'greeting': 'This is a test input' } # This is similar to the State Schema defined above\n",
    "app.invoke(input2)  # This should work as the input matches the state schema"
   ]
  },
  {
   "cell_type": "code",
   "execution_count": null,
   "id": "7c384fa7",
   "metadata": {},
   "outputs": [],
   "source": []
  }
 ],
 "metadata": {
  "kernelspec": {
   "display_name": "learning-langchain",
   "language": "python",
   "name": "python3"
  },
  "language_info": {
   "codemirror_mode": {
    "name": "ipython",
    "version": 3
   },
   "file_extension": ".py",
   "mimetype": "text/x-python",
   "name": "python",
   "nbconvert_exporter": "python",
   "pygments_lexer": "ipython3",
   "version": "3.13.2"
  }
 },
 "nbformat": 4,
 "nbformat_minor": 5
}
