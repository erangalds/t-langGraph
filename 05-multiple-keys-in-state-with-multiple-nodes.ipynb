{
 "cells": [
  {
   "cell_type": "markdown",
   "id": "cdec0757",
   "metadata": {},
   "source": [
    "# Introduction to LangGraph\n",
    "\n",
    "## Handling multiple *keys* in *Graph State* in multiple *Graph Nodes*\n",
    "Now I know that the *Graph State* can have multiple *keys* and that enables a lots flexibility to build very *Graphs* which can carry out very complex tasks. I want to see the use of same *multiple keys* in the *Graph State* with a *graph* with *multiple nodes*. That's going to be even more fun!!!\n",
    "\n",
    "Let me take the same example as previous. But this time, let me break the complete process into multiple nodes as below. \n",
    "+ first node, asks my name\n",
    "+ second node, collects the values of numbers from me\n",
    "+ third node, calculates the sum of the values and provide me the final answer\n",
    "\n",
    "To make it clear to me, let me list down all the steps which I need to follow. \n",
    "+ Import the required modules\n",
    "+ Define the `AgentState`\n",
    "+ Define the *node functions*. I have three *nodes* in the planned *graph\n",
    "+ Create an instance of `StateGraph`\n",
    "+ Add the nodes\n",
    "+ Connect the nodes\n",
    "+ Set the entry point and finish points of the graph. \n",
    "+ Build the Graph\n",
    "+ Run the Graph\n",
    "\n",
    "Let me start to build this now. "
   ]
  },
  {
   "cell_type": "code",
   "execution_count": null,
   "id": "33e5149d",
   "metadata": {},
   "outputs": [],
   "source": [
    "# import the modules\n"
   ]
  },
  {
   "cell_type": "code",
   "execution_count": null,
   "id": "7c425645",
   "metadata": {},
   "outputs": [],
   "source": [
    "# Define the AgentState\n"
   ]
  },
  {
   "cell_type": "code",
   "execution_count": null,
   "id": "10a61d4e",
   "metadata": {},
   "outputs": [],
   "source": [
    "# Define the node functions "
   ]
  },
  {
   "cell_type": "code",
   "execution_count": null,
   "id": "bf2a6107",
   "metadata": {},
   "outputs": [],
   "source": [
    "# Build the Graph and visualize it"
   ]
  },
  {
   "cell_type": "code",
   "execution_count": 1,
   "id": "256862c0",
   "metadata": {},
   "outputs": [],
   "source": [
    "# Run the Graph"
   ]
  },
  {
   "cell_type": "code",
   "execution_count": null,
   "id": "db824aff",
   "metadata": {},
   "outputs": [],
   "source": []
  }
 ],
 "metadata": {
  "kernelspec": {
   "display_name": "learning-langchain",
   "language": "python",
   "name": "python3"
  },
  "language_info": {
   "codemirror_mode": {
    "name": "ipython",
    "version": 3
   },
   "file_extension": ".py",
   "mimetype": "text/x-python",
   "name": "python",
   "nbconvert_exporter": "python",
   "pygments_lexer": "ipython3",
   "version": "3.13.2"
  }
 },
 "nbformat": 4,
 "nbformat_minor": 5
}
