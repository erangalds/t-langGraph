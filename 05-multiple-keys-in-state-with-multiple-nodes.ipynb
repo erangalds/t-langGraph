{
 "cells": [
  {
   "cell_type": "markdown",
   "id": "cdec0757",
   "metadata": {},
   "source": [
    "# Introduction to LangGraph\n",
    "\n",
    "## Handling multiple *keys* in *Graph State* in multiple *Graph Nodes*\n",
    "Now I know that the *Graph State* can have multiple *keys* and that enables a lots flexibility to build very *Graphs* which can carry out very complex tasks. I want to see the use of same *multiple keys* in the *Graph State* with a *graph* with *multiple nodes*. That's going to be even more fun!!!\n",
    "\n",
    "Let me take the same example as previous. But this time, let me break the complete process into multiple nodes as below. \n",
    "+ first node, asks my name\n",
    "+ second node, collects the values of numbers from me\n",
    "+ third node, calculates the sum of the values and provide me the final answer\n",
    "\n",
    "To make it clear to me, let me list down all the steps which I need to follow. \n",
    "+ Import the required modules\n",
    "+ Define the `AgentState`\n",
    "+ Define the *node functions*. I have three *nodes* in the planned *graph\n",
    "+ Create an instance of `StateGraph`\n",
    "+ Add the nodes\n",
    "+ Connect the nodes\n",
    "+ Set the entry point and finish points of the graph. \n",
    "+ Build the Graph\n",
    "+ Run the Graph\n",
    "\n",
    "Let me start to build this now. "
   ]
  },
  {
   "cell_type": "code",
   "execution_count": 1,
   "id": "33e5149d",
   "metadata": {},
   "outputs": [],
   "source": [
    "# import the modules\n",
    "from typing import TypedDict, List \n",
    "from langgraph.graph import StateGraph \n",
    "from IPython.display import Image, display"
   ]
  },
  {
   "cell_type": "code",
   "execution_count": 2,
   "id": "7c425645",
   "metadata": {},
   "outputs": [],
   "source": [
    "# Define the AgentState\n",
    "# Add Code Here to defint the Graph State\n",
    "class AgentState(TypedDict):\n",
    "    name: str\n",
    "    values: List[int]\n",
    "    result: int"
   ]
  },
  {
   "cell_type": "code",
   "execution_count": 4,
   "id": "10a61d4e",
   "metadata": {},
   "outputs": [],
   "source": [
    "# Define the node functions \n",
    "def ask_name(state: AgentState) -> AgentState:\n",
    "    state['name'] = input(\"What is your name? \")\n",
    "    return state\n",
    "def ask_values(state: AgentState) -> AgentState:\n",
    "    values_input = input(\"Enter a list of integers separated by commas: \")\n",
    "    state['values'] = [int(x.strip()) for x in values_input.split(',')]\n",
    "    return state\n",
    "def calculate_sum(state: AgentState) -> AgentState:\n",
    "    state['result'] = sum(state['values'])\n",
    "    return state\n",
    "def display_result(state: AgentState) -> AgentState:\n",
    "    print(f\"{state['name']}, the sum of your values is: {state['result']}\")\n",
    "    return state"
   ]
  },
  {
   "cell_type": "code",
   "execution_count": 7,
   "id": "bf2a6107",
   "metadata": {},
   "outputs": [
    {
     "data": {
      "image/png": "[encoded data removed]",
      "text/plain": [
       "<IPython.core.display.Image object>"
      ]
     },
     "metadata": {},
     "output_type": "display_data"
    }
   ],
   "source": [
    "# Build the Graph and visualize it\n",
    "graph = StateGraph(AgentState)\n",
    "graph.add_node(\"ask_name\", ask_name)\n",
    "graph.add_node(\"ask_values\", ask_values)\n",
    "graph.add_node(\"calculate_sum\", calculate_sum)\n",
    "graph.add_node(\"display_result\", display_result)\n",
    "graph.set_entry_point(\"ask_name\")\n",
    "graph.set_finish_point(\"display_result\")\n",
    "\n",
    "graph.add_edge(\"ask_name\", \"ask_values\")\n",
    "graph.add_edge(\"ask_values\", \"calculate_sum\")\n",
    "graph.add_edge(\"calculate_sum\", \"display_result\")\n",
    "# Compile the graph to create the application\n",
    "\n",
    "app = graph.compile()\n",
    "# Visualize the graph\n",
    "display(Image(app.get_graph().draw_mermaid_png()))  "
   ]
  },
  {
   "cell_type": "code",
   "execution_count": 8,
   "id": "256862c0",
   "metadata": {},
   "outputs": [
    {
     "name": "stdout",
     "output_type": "stream",
     "text": [
      "eranga, the sum of your values is: 10\n"
     ]
    }
   ],
   "source": [
    "# Run the Graph\n",
    "answer = app.invoke({})"
   ]
  },
  {
   "cell_type": "code",
   "execution_count": 10,
   "id": "db824aff",
   "metadata": {},
   "outputs": [
    {
     "name": "stdout",
     "output_type": "stream",
     "text": [
      "Final Answer: {'name': 'eranga', 'values': [1, 2, 3, 4], 'result': 10}\n"
     ]
    }
   ],
   "source": [
    "# Print the final answer\n",
    "print(\"Final Answer:\", answer)  "
   ]
  },
  {
   "cell_type": "code",
   "execution_count": null,
   "id": "0e44ca99",
   "metadata": {},
   "outputs": [],
   "source": []
  }
 ],
 "metadata": {
  "kernelspec": {
   "display_name": "learning-langchain",
   "language": "python",
   "name": "python3"
  },
  "language_info": {
   "codemirror_mode": {
    "name": "ipython",
    "version": 3
   },
   "file_extension": ".py",
   "mimetype": "text/x-python",
   "name": "python",
   "nbconvert_exporter": "python",
   "pygments_lexer": "ipython3",
   "version": "3.13.2"
  }
 },
 "nbformat": 4,
 "nbformat_minor": 5
}
